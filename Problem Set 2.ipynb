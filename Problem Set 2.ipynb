{
 "cells": [
  {
   "cell_type": "markdown",
   "id": "7583f112",
   "metadata": {},
   "source": [
    "# Problem Set 2"
   ]
  },
  {
   "cell_type": "markdown",
   "id": "4590ddfd",
   "metadata": {},
   "source": [
    "## Question 1"
   ]
  },
  {
   "cell_type": "code",
   "execution_count": 1,
   "id": "3428a67c",
   "metadata": {},
   "outputs": [],
   "source": [
    "a = 0\n",
    "def b():\n",
    " global a\n",
    " a = c(a)\n",
    "def c(a):\n",
    " return a + 2"
   ]
  },
  {
   "cell_type": "code",
   "execution_count": 2,
   "id": "c76f74d1",
   "metadata": {},
   "outputs": [
    {
     "data": {
      "text/plain": [
       "6"
      ]
     },
     "execution_count": 2,
     "metadata": {},
     "output_type": "execute_result"
    }
   ],
   "source": [
    "\n",
    "# Explaination - 2 is added every time we call function b()\n",
    "b()   # a = 0 + 2 = 2\n",
    "b()   # a = 2 + 2 = 4\n",
    "b()   # a = 4 + 2 = 6\n",
    "a"
   ]
  },
  {
   "cell_type": "markdown",
   "id": "13b7d4af",
   "metadata": {},
   "source": [
    "## Question 2"
   ]
  },
  {
   "cell_type": "code",
   "execution_count": 5,
   "id": "68781cc0",
   "metadata": {},
   "outputs": [],
   "source": [
    "import os\n",
    "\n",
    "def fileLength(name):                           #creating a function named fileLength\n",
    "\n",
    "  try:     \n",
    "    length = os.path.getsize(name)              #calculate file length\n",
    "    print (length)\n",
    "    \n",
    "  except FileNotFoundError:                     #filenotfound exception  \n",
    "    print(\"File \",str(name),\"is not found\")     #print error message"
   ]
  },
  {
   "cell_type": "code",
   "execution_count": 9,
   "id": "ab20b173",
   "metadata": {},
   "outputs": [
    {
     "name": "stdout",
     "output_type": "stream",
     "text": [
      "127\n"
     ]
    }
   ],
   "source": [
    "fileLength('C:/Users/avani/Filelength.txt')"
   ]
  },
  {
   "cell_type": "code",
   "execution_count": 10,
   "id": "ed9fad55",
   "metadata": {},
   "outputs": [
    {
     "name": "stdout",
     "output_type": "stream",
     "text": [
      "File  idterm.py is not found\n"
     ]
    }
   ],
   "source": [
    "fileLength('idterm.py')"
   ]
  },
  {
   "cell_type": "markdown",
   "id": "b8c7be08",
   "metadata": {},
   "source": [
    "## Question 3"
   ]
  },
  {
   "cell_type": "code",
   "execution_count": 11,
   "id": "bcb432e8",
   "metadata": {},
   "outputs": [],
   "source": [
    "class Marsupial:                       #creating class Marsupial\n",
    "    \n",
    "    def __init__(value):               #creating constructor\n",
    "        value.list = []\n",
    "\n",
    "    def put_in_pouch(value, item):     #creating function put_in_pouch\n",
    "        value.list.append(item)\n",
    "\n",
    "    def pouch_contents(value):         #creating function for returning list\n",
    "        return value.list\n",
    "\n",
    "    \n",
    "class Kangaroo(Marsupial):             #creating class Kangaroo as subclass of Mursupial\n",
    "    \n",
    "    def __init__(value,x,y):           #creating constructor to take, as input, the coordinates x and y \n",
    "        Marsupial.__init__(value)\n",
    "        value.x = x\n",
    "        value.y = y\n",
    "\n",
    "    def jump(value,dx,dy):            #creating method Jump as mentioned in question \n",
    "        value.x += dx\n",
    "        value.y += dy\n",
    "\n",
    "    def __str__(value):              #creating method str\n",
    "        return 'I am a Kangaroo located at coordinates ({},{})'.format(value.x,value.y)"
   ]
  },
  {
   "cell_type": "code",
   "execution_count": 12,
   "id": "3d1d90c2",
   "metadata": {},
   "outputs": [
    {
     "name": "stdout",
     "output_type": "stream",
     "text": [
      "I am a Kangaroo located at coordinates (0,0)\n"
     ]
    }
   ],
   "source": [
    "k = Kangaroo(0,0)\n",
    "print(k)"
   ]
  },
  {
   "cell_type": "code",
   "execution_count": 13,
   "id": "7caf9c67",
   "metadata": {},
   "outputs": [
    {
     "data": {
      "text/plain": [
       "['doll', 'firetruck', 'kitten']"
      ]
     },
     "execution_count": 13,
     "metadata": {},
     "output_type": "execute_result"
    }
   ],
   "source": [
    "k.put_in_pouch('doll')\n",
    "k.put_in_pouch('firetruck')\n",
    "k.put_in_pouch('kitten')\n",
    "k.pouch_contents()"
   ]
  },
  {
   "cell_type": "code",
   "execution_count": 14,
   "id": "a0b4784a",
   "metadata": {},
   "outputs": [
    {
     "name": "stdout",
     "output_type": "stream",
     "text": [
      "I am a Kangaroo located at coordinates (3,0)\n"
     ]
    }
   ],
   "source": [
    "k.jump(1,0)\n",
    "k.jump(1,0)\n",
    "k.jump(1,0)\n",
    "print(k)"
   ]
  },
  {
   "cell_type": "markdown",
   "id": "326ff1e9",
   "metadata": {},
   "source": [
    "## Question 4"
   ]
  },
  {
   "cell_type": "code",
   "execution_count": 18,
   "id": "4a854b43",
   "metadata": {},
   "outputs": [],
   "source": [
    "def collatz(x):                      #creating function collatz which takes user input x\n",
    "\n",
    "    print(x)                         #print value of x\n",
    " \n",
    "    if x == 1:                         #creating recursive if elif loop \n",
    "        return \n",
    "    elif x % 2 == 0:                     #value of x is even \n",
    "        return collatz(x / 2) \n",
    "    else:\n",
    "        return collatz((3 * x) + 1)       #vslue of x is odd "
   ]
  },
  {
   "cell_type": "code",
   "execution_count": 19,
   "id": "9f7ee9f4",
   "metadata": {},
   "outputs": [
    {
     "name": "stdout",
     "output_type": "stream",
     "text": [
      "1\n"
     ]
    }
   ],
   "source": [
    "collatz(1)"
   ]
  },
  {
   "cell_type": "code",
   "execution_count": 20,
   "id": "821d88d6",
   "metadata": {},
   "outputs": [
    {
     "name": "stdout",
     "output_type": "stream",
     "text": [
      "10\n",
      "5.0\n",
      "16.0\n",
      "8.0\n",
      "4.0\n",
      "2.0\n",
      "1.0\n"
     ]
    }
   ],
   "source": [
    "collatz(10)"
   ]
  },
  {
   "cell_type": "markdown",
   "id": "c82afdd3",
   "metadata": {},
   "source": [
    "## Question 5"
   ]
  },
  {
   "cell_type": "code",
   "execution_count": 21,
   "id": "1b82b03d",
   "metadata": {},
   "outputs": [],
   "source": [
    "def binary(digit):               #creating method binary as mentioned in question\n",
    "    if(digit > 0):\n",
    "        binary(digit // 2)\n",
    "        print(digit % 2, end = '')"
   ]
  },
  {
   "cell_type": "code",
   "execution_count": 23,
   "id": "51ddb6ed",
   "metadata": {},
   "outputs": [],
   "source": [
    "binary(0)"
   ]
  },
  {
   "cell_type": "code",
   "execution_count": 24,
   "id": "f1f8744b",
   "metadata": {},
   "outputs": [
    {
     "name": "stdout",
     "output_type": "stream",
     "text": [
      "1"
     ]
    }
   ],
   "source": [
    "binary(1)"
   ]
  },
  {
   "cell_type": "code",
   "execution_count": 25,
   "id": "c19df2e3",
   "metadata": {},
   "outputs": [
    {
     "name": "stdout",
     "output_type": "stream",
     "text": [
      "11"
     ]
    }
   ],
   "source": [
    "binary(3)"
   ]
  },
  {
   "cell_type": "code",
   "execution_count": 26,
   "id": "cd7bc76e",
   "metadata": {},
   "outputs": [
    {
     "name": "stdout",
     "output_type": "stream",
     "text": [
      "1001"
     ]
    }
   ],
   "source": [
    "binary(9)"
   ]
  },
  {
   "cell_type": "markdown",
   "id": "73067021",
   "metadata": {},
   "source": [
    "## Question 6"
   ]
  },
  {
   "cell_type": "code",
   "execution_count": 32,
   "id": "923eece5",
   "metadata": {},
   "outputs": [],
   "source": [
    "from urllib.parse import urljoin\n",
    "from html.parser import HTMLParser\n",
    "\n",
    "class HeadingParser(HTMLParser):            #creating class HeadingParser as mentioned in question\n",
    "\n",
    "    def tags(value,label,attrs):            #creating function label \n",
    "        if tag == \"h1\":                     #if elif loop\n",
    "            value.headerFlag = True        \n",
    "            value.indent=0                  #as mentioned in question heading h1 should have indentation 0\n",
    "        elif label == \"h2\":\n",
    "            value.headerFlag = True\n",
    "            value.indent=1                  #as mentioned in question heading h2 should have indentation 1\n",
    "        elif label == \"h3\":\n",
    "            value.headerFlag = True\n",
    "            value.indent=2                  #as mentioned in question heading h3 should have indentation 2\n",
    "        elif label == \"h4\":\n",
    "            value.headerFlag = True\n",
    "            value.indent=3                  #as mentioned in question heading h4 should have indentation 3\n",
    "        elif label == \"h5\":\n",
    "            value.headerFlag = True\n",
    "            value.indent=4                  #as mentioned in question heading h5 should have indentation 4\n",
    "        elif label == \"h6\":\n",
    "            value.headerFlag = True\n",
    "            value.indent=5                  #as mentioned in question heading h6 should have indentation 5\n",
    "        else:\n",
    "            value.headerFlag = False\n",
    "            value.indent=0\n",
    "   \n",
    "    def tag2(value,label,attrs):          #creating function tag2 to reset all header flag\n",
    "        if label in [\"h1\",\"h2\",\"h3\",\"h4\",\"h5\",\"h6\"]:\n",
    "            value.headerFlag = True\n",
    "\n",
    "infile = open('C:/Users/avani/w3c.html')\n",
    "content = infile.read()\n",
    "infile.close()\n",
    "hp = HeadingParser()\n",
    "hp.feed(content)"
   ]
  },
  {
   "cell_type": "markdown",
   "id": "5875a93b",
   "metadata": {},
   "source": [
    "## Question 7"
   ]
  },
  {
   "cell_type": "code",
   "execution_count": 1,
   "id": "8e1aff54",
   "metadata": {},
   "outputs": [],
   "source": [
    "from urllib.request import urlopen\n",
    "from urllib.parse import urljoin\n",
    "\n",
    "from html.parser import HTMLParser\n",
    "\n",
    "def webdir(url): \n",
    "    print('http://reed.cs.depaul.edu/lperkovic/csc242/test1.html', 2, 0, url)   #for testing\n",
    "\n",
    "    info = urlopen(url).read().decode()                 #to get link from web page\n",
    "    collector = Collector(url)\n",
    "    collector.feed(info)\n",
    "    urls = collector.getLinks()                         #get list of links\n",
    "\n",
    "    print('\\n{:45} {:10}'.format('URL', 'link'))        #print link we got from web page\n",
    "    for link in urls:\n",
    "        print('{:45} {:10}'.format(url, link))\n",
    "\n",
    "    return urls"
   ]
  },
  {
   "cell_type": "markdown",
   "id": "d4eda345",
   "metadata": {},
   "source": [
    "## Question 8"
   ]
  },
  {
   "cell_type": "markdown",
   "id": "0606aff0",
   "metadata": {},
   "source": [
    "a) \n",
    "SELECT Temperature\n",
    "FROM table;\n",
    "\n",
    "b)\n",
    "SELECT DISTINCT City\n",
    "from table;\n",
    "\n",
    "c)\n",
    "SELECT * \n",
    "FROM table \n",
    "WHERE Country = 'India';\n",
    "\n",
    "d)\n",
    "SELECT * \n",
    "FROM table \n",
    "WHERE Season = 'Fall'\n",
    "\n",
    "e)\n",
    "SELECT City, Country, Season\n",
    "FROM table\n",
    "WHERE Avg(Rainfall) between 200 and 400;\n",
    "\n",
    "f)\n",
    "SELECT City, Country, Avg(Temparture)\n",
    "FROM table\n",
    "WHERE Season = 'Fall'\n",
    "Group by City, Country\n",
    "HAVING Avg(Temprature) > 20\n",
    "ORDER BY Temprature;\n",
    "\n",
    "g)\n",
    "SELECT SUM(Rainfall)\n",
    "FROM table\n",
    "WHERE City = 'Cairo';\n",
    "\n",
    "h)\n",
    "SELECT Season, SUM(Rainfall)\n",
    "FROM table\n",
    "GROUP BY Season;"
   ]
  },
  {
   "cell_type": "markdown",
   "id": "8c77928c",
   "metadata": {},
   "source": [
    "## Question 9"
   ]
  },
  {
   "cell_type": "code",
   "execution_count": 2,
   "id": "4f4b613e",
   "metadata": {},
   "outputs": [],
   "source": [
    "words = ['The', 'quick', 'brown', 'fox', 'jumps', 'over', 'the', 'lazy', 'dog']"
   ]
  },
  {
   "cell_type": "code",
   "execution_count": 4,
   "id": "0edc05af",
   "metadata": {},
   "outputs": [
    {
     "name": "stdout",
     "output_type": "stream",
     "text": [
      "['THE', 'QUICK', 'BROWN', 'FOX', 'JUMPS', 'OVER', 'THE', 'LAZY', 'DOG']\n"
     ]
    }
   ],
   "source": [
    "print([a.upper() for a in words])"
   ]
  },
  {
   "cell_type": "code",
   "execution_count": 5,
   "id": "3b7f5544",
   "metadata": {},
   "outputs": [
    {
     "name": "stdout",
     "output_type": "stream",
     "text": [
      "['the', 'quick', 'brown', 'fox', 'jumps', 'over', 'the', 'lazy', 'dog']\n"
     ]
    }
   ],
   "source": [
    "print([a.lower() for a in words])"
   ]
  },
  {
   "cell_type": "code",
   "execution_count": 6,
   "id": "57752947",
   "metadata": {},
   "outputs": [
    {
     "name": "stdout",
     "output_type": "stream",
     "text": [
      "[3, 5, 5, 3, 5, 4, 3, 4, 3]\n"
     ]
    }
   ],
   "source": [
    "print([len(a) for a in words])"
   ]
  },
  {
   "cell_type": "code",
   "execution_count": 8,
   "id": "778929b4",
   "metadata": {},
   "outputs": [
    {
     "name": "stdout",
     "output_type": "stream",
     "text": [
      "[['THE', 'the', 3], ['QUICK', 'quick', 5], ['BROWN', 'brown', 5], ['FOX', 'fox', 3], ['JUMPS', 'jumps', 5], ['OVER', 'over', 4], ['THE', 'the', 3], ['LAZY', 'lazy', 4], ['DOG', 'dog', 3]]\n"
     ]
    }
   ],
   "source": [
    "print([[a.upper(), a.lower(), len(a)] for a in words])"
   ]
  },
  {
   "cell_type": "code",
   "execution_count": 9,
   "id": "34deb88d",
   "metadata": {},
   "outputs": [
    {
     "name": "stdout",
     "output_type": "stream",
     "text": [
      "['quick', 'brown', 'jumps', 'over', 'lazy']\n"
     ]
    }
   ],
   "source": [
    "print([a.lower() for a in words if len(a) >= 4])"
   ]
  }
 ],
 "metadata": {
  "kernelspec": {
   "display_name": "Python 3 (ipykernel)",
   "language": "python",
   "name": "python3"
  },
  "language_info": {
   "codemirror_mode": {
    "name": "ipython",
    "version": 3
   },
   "file_extension": ".py",
   "mimetype": "text/x-python",
   "name": "python",
   "nbconvert_exporter": "python",
   "pygments_lexer": "ipython3",
   "version": "3.9.7"
  }
 },
 "nbformat": 4,
 "nbformat_minor": 5
}
